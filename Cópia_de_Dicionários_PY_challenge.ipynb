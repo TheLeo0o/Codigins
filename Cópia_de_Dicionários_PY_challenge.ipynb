{
  "nbformat": 4,
  "nbformat_minor": 0,
  "metadata": {
    "colab": {
      "provenance": [],
      "authorship_tag": "ABX9TyO1nFmfyFhplJWuFWOnM5eP",
      "include_colab_link": true
    },
    "kernelspec": {
      "name": "python3",
      "display_name": "Python 3"
    },
    "language_info": {
      "name": "python"
    }
  },
  "cells": [
    {
      "cell_type": "markdown",
      "metadata": {
        "id": "view-in-github",
        "colab_type": "text"
      },
      "source": [
        "<a href=\"https://colab.research.google.com/github/TheLeo0o/Codigins/blob/main/C%C3%B3pia_de_Dicion%C3%A1rios_PY_challenge.ipynb\" target=\"_parent\"><img src=\"https://colab.research.google.com/assets/colab-badge.svg\" alt=\"Open In Colab\"/></a>"
      ]
    },
    {
      "cell_type": "markdown",
      "source": [
        "**1-Mesclar Dicionários\n",
        "Combine dois dicionários, substituindo valores comuns pela soma dos valores\n",
        "correspondentes.**"
      ],
      "metadata": {
        "id": "OxXNiVUmbY1n"
      }
    },
    {
      "cell_type": "code",
      "execution_count": null,
      "metadata": {
        "id": "Q196VpkWbY1o"
      },
      "outputs": [],
      "source": [
        "def mesclar_dicionarios(dict1, dict2):\n",
        "    for chave in dict2:\n",
        "        if chave in dict1:\n",
        "            dict1[chave] += dict2[chave]\n",
        "        else:\n",
        "            dict1[chave] = dict2[chave]\n",
        "    return dict1\n",
        "\n",
        "d1 = {'a': 1, 'b': 2}\n",
        "d2 = {'b': 3, 'c': 4}\n",
        "resultado = mesclar_dicionarios(d1, d2)\n",
        "print(resultado)"
      ]
    },
    {
      "cell_type": "markdown",
      "source": [
        "**2-Maior Valor em Dicionário de Dicionários\n",
        "Encontre a chave e valor com o maior valor em um dicionário de dicionários.**"
      ],
      "metadata": {
        "id": "c_Z4bS6nbZFD"
      }
    },
    {
      "cell_type": "code",
      "execution_count": null,
      "metadata": {
        "id": "amM3nrJAbZFE"
      },
      "outputs": [],
      "source": [
        "def maior_valor(dicionario):\n",
        "    maior_chave = None\n",
        "    maior_valor = float('-inf')\n",
        "    for chave, subdict in dicionario.items():\n",
        "        for subchave, valor in subdict.items():\n",
        "            if valor > maior_valor:\n",
        "                maior_valor = valor\n",
        "                maior_chave = (chave, subchave)\n",
        "    return maior_chave, maior_valor\n",
        "\n",
        "d = {'A': {'a': 10, 'b': 5}, 'B': {'a': 2, 'b': 8}}\n",
        "resultado = maior_valor(d)\n",
        "print(resultado)"
      ]
    },
    {
      "cell_type": "markdown",
      "source": [
        "**3-Palavras Únicas por Chave\n",
        "Dado um dicionário de listas, encontre as palavras que são únicas para cada\n",
        "chave.**"
      ],
      "metadata": {
        "id": "ltWxBNyHbZOr"
      }
    },
    {
      "cell_type": "code",
      "execution_count": null,
      "metadata": {
        "id": "XzuP2GCJbZOs"
      },
      "outputs": [],
      "source": [
        "def palavras_unicas(dicionario):\n",
        "    todas_as_palavras = set()\n",
        "    for lista in dicionario.values():\n",
        "        todas_as_palavras.update(lista)\n",
        "\n",
        "    unicas = {}\n",
        "    for chave, lista in dicionario.items():\n",
        "        unicas[chave] = [palavra for palavra in lista if lista.count(palavra) == 1]\n",
        "    return unicas\n",
        "\n",
        "d = {'chave1': ['a', 'b', 'c'], 'chave2': ['a', 'd'], 'chave3': ['e', 'f', 'c']}\n",
        "resultado = palavras_unicas(d)\n",
        "print(resultado)"
      ]
    },
    {
      "cell_type": "markdown",
      "source": [
        "**4-Aninhamento de Chaves\n",
        "Crie um dicionário aninhado com níveis de chaves fornecidos em uma lista.**"
      ],
      "metadata": {
        "id": "fRgp7zdYbZXY"
      }
    },
    {
      "cell_type": "code",
      "execution_count": null,
      "metadata": {
        "id": "V4mhWaVkbZXY"
      },
      "outputs": [],
      "source": [
        "def criar_dicionario_aninhado(chaves):\n",
        "    dicionario = {}\n",
        "    for chave in reversed(chaves):\n",
        "        dicionario = {chave: dicionario}\n",
        "    return dicionario\n",
        "\n",
        "chaves = ['nivel1', 'nivel2', 'nivel3']\n",
        "resultado = criar_dicionario_aninhado(chaves)\n",
        "print(resultado)"
      ]
    },
    {
      "cell_type": "markdown",
      "source": [
        "**5-Dicionário Circular\n",
        "Crie um dicionário em que a última chave aponte para a primeira chave.**"
      ],
      "metadata": {
        "id": "h55pQELAbZf4"
      }
    },
    {
      "cell_type": "code",
      "execution_count": null,
      "metadata": {
        "id": "HrfSdDehbZf4"
      },
      "outputs": [],
      "source": [
        "def dicionario_circular(chaves):\n",
        "    dicionario = {chave: None for chave in chaves}\n",
        "    for i in range(len(chaves)):\n",
        "        dicionario[chaves[i]] = chaves[(i + 1) % len(chaves)]\n",
        "    return dicionario\n",
        "\n",
        "chaves = ['a', 'b', 'c']\n",
        "resultado = dicionario_circular(chaves)\n",
        "print(resultado)"
      ]
    },
    {
      "cell_type": "markdown",
      "source": [
        "**6-Compressão de Dicionário\n",
        "Comprima um dicionário removendo chaves com valores menores que um\n",
        "determinado limite.**"
      ],
      "metadata": {
        "id": "850sCeiHbZoO"
      }
    },
    {
      "cell_type": "code",
      "execution_count": null,
      "metadata": {
        "id": "2cYlFv3ubZoP"
      },
      "outputs": [],
      "source": [
        "def comprimir_dicionario(dicionario, limite):\n",
        "    return {chave: valor for chave, valor in dicionario.items() if valor >= limite}\n",
        "d = {'a': 1, 'b': 3, 'c': 2}\n",
        "resultado = comprimir_dicionario(d, 2)\n",
        "print(resultado)"
      ]
    },
    {
      "cell_type": "markdown",
      "source": [
        "**7-Frequência de Palavras em Texto\n",
        "Conte a frequência de cada palavra em um texto usando um dicionário.**"
      ],
      "metadata": {
        "id": "YUfQaEt6bZv_"
      }
    },
    {
      "cell_type": "code",
      "execution_count": null,
      "metadata": {
        "id": "z6L4IbgTbZv_"
      },
      "outputs": [],
      "source": [
        "def frequencia_palavras(texto):\n",
        "    palavras = texto.split()\n",
        "    frequencia = {}\n",
        "    for palavra in palavras:\n",
        "        frequencia[palavra] = frequencia.get(palavra, 0) + 1\n",
        "    return frequencia\n",
        "\n",
        "texto = \"a b a c a b\"\n",
        "resultado = frequencia_palavras(texto)\n",
        "print(\"frequência:\",resultado)"
      ]
    },
    {
      "cell_type": "markdown",
      "source": [
        "**8-Ordenação de Dicionário por Valor\n",
        "Ordene um dicionário com base nos valores, em ordem decrescente.**"
      ],
      "metadata": {
        "id": "v8IbDE4BbZ3v"
      }
    },
    {
      "cell_type": "code",
      "execution_count": null,
      "metadata": {
        "id": "abtU67RIbZ3v"
      },
      "outputs": [],
      "source": [
        "def ordenar_dicionario_por_valor(dicionario):\n",
        "    return dict(sorted(dicionario.items(), key=lambda item: item[1], reverse=True))\n",
        "\n",
        "d = {'a': 1, 'b': 3, 'c': 2}\n",
        "resultado = ordenar_dicionario_por_valor(d)\n",
        "print(resultado)"
      ]
    },
    {
      "cell_type": "markdown",
      "source": [
        "**9-Dicionário de Matrizes\n",
        "Crie um dicionário de matrizes, onde as chaves são coordenadas e os valores são\n",
        "os elementos correspondentes.**"
      ],
      "metadata": {
        "id": "dnViGfCvbZ_D"
      }
    },
    {
      "cell_type": "code",
      "execution_count": null,
      "metadata": {
        "id": "D38q7AmFbZ_D"
      },
      "outputs": [],
      "source": [
        "def dicionario_matrizes(coordenadas, elementos):\n",
        "    return {tuple(coordenada): elemento for coordenada, elemento in zip(coordenadas, elementos)}\n",
        "\n",
        "coordenadas = [(0, 0), (0, 1), (1, 0), (1, 1)]\n",
        "elementos = [1, 2, 3, 4]\n",
        "resultado = dicionario_matrizes(coordenadas, elementos)\n",
        "print(resultado)"
      ]
    },
    {
      "cell_type": "markdown",
      "source": [
        "**10-Mapeamento de Palavras\n",
        "Crie um dicionário que mapeie palavras em um texto para palavras diferentes com\n",
        "base em um dicionário de substituição.**"
      ],
      "metadata": {
        "id": "j3UWtMUNbaIn"
      }
    },
    {
      "cell_type": "code",
      "execution_count": null,
      "metadata": {
        "id": "pSfSt3eQbaIn"
      },
      "outputs": [],
      "source": [
        "def mapeamento_de_palavras(texto, dicionario_substituicao):\n",
        "    palavras = texto.split()\n",
        "    return ' '.join(dicionario_substituicao.get(palavra, palavra) for palavra in palavras)\n",
        "\n",
        "texto = \"a b c\"\n",
        "dicionario = {'a': 'x', 'b': 'y'}\n",
        "resultado = mapeamento_de_palavras(texto, dicionario)\n",
        "print(resultado)"
      ]
    }
  ]
}