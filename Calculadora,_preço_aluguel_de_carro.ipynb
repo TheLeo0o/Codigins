{
  "nbformat": 4,
  "nbformat_minor": 0,
  "metadata": {
    "colab": {
      "provenance": [],
      "authorship_tag": "ABX9TyMVQIvv8Zku5giwrR58EQ9d",
      "include_colab_link": true
    },
    "kernelspec": {
      "name": "python3",
      "display_name": "Python 3"
    },
    "language_info": {
      "name": "python"
    }
  },
  "cells": [
    {
      "cell_type": "markdown",
      "metadata": {
        "id": "view-in-github",
        "colab_type": "text"
      },
      "source": [
        "<a href=\"https://colab.research.google.com/github/TheLeo0o/Codigins/blob/main/C%C3%B3pia_de_calculadora%2C_pre%C3%A7o_aluguel_de_carro.ipynb\" target=\"_parent\"><img src=\"https://colab.research.google.com/assets/colab-badge.svg\" alt=\"Open In Colab\"/></a>"
      ]
    },
    {
      "cell_type": "code",
      "source": [
        "def calcular_preco_aluguel(km_percorridos, dias_alugados):\n",
        "    preco_por_dia = 60\n",
        "    preco_por_km = 0.15\n",
        "    preco_total = (preco_por_dia * dias_alugados) + (preco_por_km * km_percorridos)\n",
        "    return preco_total\n",
        "def main():\n",
        "    km = float(input(\"Quantos quilômetros foram percorridos? \"))\n",
        "    dias = int(input(\"Por quantos dias o carro foi alugado? \"))\n",
        "\n",
        "    preco_total = calcular_preco_aluguel(km, dias)\n",
        "\n",
        "    print(\"O preço a se pagar é R$ {:.2f}\" . format(preco_total))\n",
        "\n",
        "if __name__ == \"__main__\":\n",
        "    main()"
      ],
      "metadata": {
        "id": "rYYoavVZIH2B"
      },
      "execution_count": null,
      "outputs": []
    }
  ]
}
